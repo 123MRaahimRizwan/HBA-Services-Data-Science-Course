{
 "cells": [
  {
   "cell_type": "markdown",
   "id": "f06f3040-80fa-4f2e-ac12-3afa5f689187",
   "metadata": {},
   "source": [
    "# Basics of Jupyter Notebook Class"
   ]
  },
  {
   "cell_type": "markdown",
   "id": "8a9a43c9-66cc-4f06-842a-8d3b75cccc8b",
   "metadata": {},
   "source": [
    "This is a markdown cell inside of jupyter notebook"
   ]
  },
  {
   "cell_type": "code",
   "execution_count": null,
   "id": "cc5dd044",
   "metadata": {},
   "outputs": [],
   "source": [
    "\"\"\"\n",
    "Links for github notebooks:\n",
    "\n",
    "First Notebook: \n",
    "https://github.com/jakevdp/PythonDataScienceHandbook/blob/master/notebooks_v1/05.02-Introducing-Scikit-Learn.ipynb\n",
    "\n",
    "Second Notebook:\n",
    "https://github.com/jakevdp/PythonDataScienceHandbook/blob/master/notebooks_v1/05.08-Random-Forests.ipynb\n",
    "\"\"\""
   ]
  },
  {
   "cell_type": "code",
   "execution_count": 2,
   "id": "1a0b845c-de0f-4037-898e-8d4c36ccd3a7",
   "metadata": {},
   "outputs": [],
   "source": [
    "def sum(a, b):\n",
    "    add = a+b\n",
    "    return add"
   ]
  },
  {
   "cell_type": "code",
   "execution_count": 3,
   "id": "3bbdd268-40cb-4151-b4d4-e4f183f47306",
   "metadata": {},
   "outputs": [
    {
     "name": "stdout",
     "output_type": "stream",
     "text": [
      "Sum is:  11\n"
     ]
    }
   ],
   "source": [
    "n = sum(5,6)\n",
    "print(\"Sum is: \", n)"
   ]
  },
  {
   "cell_type": "code",
   "execution_count": 4,
   "id": "22aa7b74-7eb9-4bfe-8092-a222e846af2d",
   "metadata": {},
   "outputs": [
    {
     "name": "stdout",
     "output_type": "stream",
     "text": [
      "I am Raahim\n"
     ]
    }
   ],
   "source": [
    "print(\"I am Raahim\")"
   ]
  },
  {
   "cell_type": "code",
   "execution_count": 5,
   "id": "ce4fbdee-7ac5-4303-aeaf-d6cc0e60f2d6",
   "metadata": {},
   "outputs": [
    {
     "name": "stdout",
     "output_type": "stream",
     "text": [
      "0\n",
      "1\n",
      "4\n",
      "9\n",
      "16\n",
      "25\n",
      "36\n",
      "49\n",
      "64\n",
      "81\n",
      "100\n"
     ]
    }
   ],
   "source": [
    "for i in range(11):\n",
    "    print(i*i)"
   ]
  },
  {
   "cell_type": "code",
   "execution_count": null,
   "id": "635a3615-b553-4f92-a99f-0a543a457c59",
   "metadata": {},
   "outputs": [],
   "source": []
  }
 ],
 "metadata": {
  "kernelspec": {
   "display_name": "Python 3 (ipykernel)",
   "language": "python",
   "name": "python3"
  },
  "language_info": {
   "codemirror_mode": {
    "name": "ipython",
    "version": 3
   },
   "file_extension": ".py",
   "mimetype": "text/x-python",
   "name": "python",
   "nbconvert_exporter": "python",
   "pygments_lexer": "ipython3",
   "version": "3.10.9"
  }
 },
 "nbformat": 4,
 "nbformat_minor": 5
}
